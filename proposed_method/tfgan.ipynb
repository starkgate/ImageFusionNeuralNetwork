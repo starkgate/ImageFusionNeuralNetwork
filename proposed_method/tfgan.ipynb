{
 "cells": [
  {
   "cell_type": "code",
   "execution_count": null,
   "metadata": {},
   "outputs": [],
   "source": [
    "import glob\n",
    "\n",
    "root = \"D:/BELEG/\"\n",
    "render_random_meta = root + \"tfgan/data_generator/render_random_meta.py\"\n",
    "render_opacities = root + \"tfgan/data_generator/render_opacities.py\"\n",
    "render_volume_images = root + \"tfgan/data_generator/render_volume_images.py\"\n",
    "\n",
    "training_set_input = root + \"Dataset/training/TCGA-76-4934_2000.10.08.nii\"\n",
    "#training_set_output = root + \"Dataset/combustion\"\n",
    "training_set_output = \"D:\\BELEG\\out_brain_renderings\""
   ]
  },
  {
   "cell_type": "code",
   "execution_count": null,
   "metadata": {},
   "outputs": [],
   "source": [
    "#!pip install pyssim scikit-image\n",
    "#!mkdir \"{training_set_output}\" \"{training_set_opacity}\" \"{training_set_color}\"\n",
    "# generate view points\n",
    "!echo python \"{render_random_meta}\" \"{training_set_input}\" \"{training_set_output}\" 100\n",
    "# generate color images\n",
    "!echo python \"{render_volume_images}\" \"{training_set_input}\" \"{training_set_output}/view.npy\" \"{training_set_output}/opacity.npy\" \"{training_set_output}/color.npy\""
   ]
  },
  {
   "cell_type": "code",
   "execution_count": null,
   "metadata": {},
   "outputs": [],
   "source": [
    "import glob\n",
    "\n",
    "stage2 = root + \"tfgan/gan/stage2_gan.py\"\n",
    "opacity_network = root + \"tfgan/checkpoints/stage1-opacity/stage1-opacity-gNet-59.pth\"\n",
    "epoch = 18\n",
    "gNet = root + \"tfgan/checkpoints/stage2-translation/stage2-translation-gNet-\" + str(epoch) + \".pth\"\n",
    "dNet = root + \"tfgan/checkpoints/stage2-translation/stage2-translation-dNet-\" + str(epoch) + \".pth\"\n",
    "checkpoints = root + \"tfgan/checkpoints\"\n",
    "log = root + \"tfgan/debug.log\"\n",
    "\n",
    "!echo python  -W ignore \"{stage2}\" --dataroot \"{training_set_output}\" --outf \"{checkpoints}\" --checkpoint_dir \"{checkpoints}\" --name \"stage2-translation\" --niter \"60\"\n",
    "#!echo python -W ignore \"{stage2}\" --dataroot \"{training_set_output}\" --outf \"{checkpoints}\" --checkpoint_dir \"{checkpoints}\" --name \"stage2-translation\" --opNet \"{opacity_network}\" --niter \"60\"\n",
    "#!echo python -W ignore \"{stage2}\" --dataroot \"{training_set_output}\" --outf \"{checkpoints}\" --checkpoint_dir \"{checkpoints}\" --name \"stage2-translation\" --dNet \"{dNet}\" --gNet \"{gNet}\" --niter \"60\""
   ]
  },
  {
   "cell_type": "code",
   "execution_count": null,
   "metadata": {},
   "outputs": [],
   "source": [
    "evaluation = root + \"tfgan/gan/evaluate_translation.py\"\n",
    "opacity_network = root + \"tfgan/checkpoints-tfgan-final/stage2-translation/stage2-translation-gNet-40.pth\"\n",
    "errors = root + \"tfgan/checkpoints/errs.npy\"\n",
    "checkpoints = root + \"tfgan/checkpoints\"\n",
    "#training_set_output = \"D:\\BELEG\\out_test\" # test against the same volume we trained\n",
    "training_set_output = \"D:/BELEG/out_full_brain\" # test against a new volume\n",
    "\n",
    "!echo python \"{evaluation}\" --dataroot \"{training_set_output}\" --translateNets \"{opacity_network}\" --err_filename \"{errors}\" --outf \"{checkpoints}\""
   ]
  }
 ],
 "metadata": {
  "kernelspec": {
   "display_name": "Python 3",
   "language": "python",
   "name": "python3"
  },
  "language_info": {
   "codemirror_mode": {
    "name": "ipython",
    "version": 3
   },
   "file_extension": ".py",
   "mimetype": "text/x-python",
   "name": "python",
   "nbconvert_exporter": "python",
   "pygments_lexer": "ipython3",
   "version": "3.7.3"
  }
 },
 "nbformat": 4,
 "nbformat_minor": 4
}
